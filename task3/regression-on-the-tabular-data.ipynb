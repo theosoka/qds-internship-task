{
 "cells": [
  {
   "cell_type": "markdown",
   "id": "3484273a",
   "metadata": {},
   "source": [
    "importing libraries"
   ]
  },
  {
   "cell_type": "code",
   "execution_count": 46,
   "id": "4fc8ef5f",
   "metadata": {},
   "outputs": [],
   "source": [
    "import pandas as pd\n",
    "import numpy as np\n",
    "\n",
    "from sklearn.model_selection import train_test_split\n",
    "from sklearn.ensemble import RandomForestRegressor\n",
    "from sklearn.metrics import mean_squared_error\n",
    "\n",
    "import matplotlib.pyplot as plt"
   ]
  },
  {
   "cell_type": "code",
   "execution_count": 26,
   "id": "6a48f0e2",
   "metadata": {},
   "outputs": [],
   "source": [
    "train_file = 'internship_train.csv'\n",
    "test_file = 'internship_hidden_test.csv'"
   ]
  },
  {
   "cell_type": "markdown",
   "id": "78ceaad3",
   "metadata": {},
   "source": [
    "reading data and saving it to the dataframes"
   ]
  },
  {
   "cell_type": "code",
   "execution_count": 27,
   "id": "82058468",
   "metadata": {},
   "outputs": [],
   "source": [
    "df_data_train = pd.read_csv(train_file, low_memory=False)\n",
    "df_data_test = pd.read_csv(test_file)"
   ]
  },
  {
   "cell_type": "markdown",
   "id": "e36b00aa",
   "metadata": {},
   "source": [
    "analyzing the data"
   ]
  },
  {
   "cell_type": "code",
   "execution_count": 42,
   "id": "cb031764",
   "metadata": {},
   "outputs": [
    {
     "data": {
      "text/html": [
       "<div>\n",
       "<style scoped>\n",
       "    .dataframe tbody tr th:only-of-type {\n",
       "        vertical-align: middle;\n",
       "    }\n",
       "\n",
       "    .dataframe tbody tr th {\n",
       "        vertical-align: top;\n",
       "    }\n",
       "\n",
       "    .dataframe thead th {\n",
       "        text-align: right;\n",
       "    }\n",
       "</style>\n",
       "<table border=\"1\" class=\"dataframe\">\n",
       "  <thead>\n",
       "    <tr style=\"text-align: right;\">\n",
       "      <th></th>\n",
       "      <th>0</th>\n",
       "      <th>1</th>\n",
       "      <th>2</th>\n",
       "      <th>3</th>\n",
       "      <th>4</th>\n",
       "      <th>5</th>\n",
       "      <th>6</th>\n",
       "      <th>7</th>\n",
       "      <th>8</th>\n",
       "      <th>9</th>\n",
       "      <th>...</th>\n",
       "      <th>44</th>\n",
       "      <th>45</th>\n",
       "      <th>46</th>\n",
       "      <th>47</th>\n",
       "      <th>48</th>\n",
       "      <th>49</th>\n",
       "      <th>50</th>\n",
       "      <th>51</th>\n",
       "      <th>52</th>\n",
       "      <th>target</th>\n",
       "    </tr>\n",
       "  </thead>\n",
       "  <tbody>\n",
       "    <tr>\n",
       "      <th>count</th>\n",
       "      <td>90000.000000</td>\n",
       "      <td>90000.000000</td>\n",
       "      <td>90000.000000</td>\n",
       "      <td>90000.000000</td>\n",
       "      <td>90000.000000</td>\n",
       "      <td>90000.000000</td>\n",
       "      <td>90000.000000</td>\n",
       "      <td>90000.000000</td>\n",
       "      <td>90000.000000</td>\n",
       "      <td>90000.000000</td>\n",
       "      <td>...</td>\n",
       "      <td>90000.000000</td>\n",
       "      <td>90000.000000</td>\n",
       "      <td>90000.000000</td>\n",
       "      <td>90000.000000</td>\n",
       "      <td>90000.000000</td>\n",
       "      <td>90000.000000</td>\n",
       "      <td>90000.000000</td>\n",
       "      <td>90000.000000</td>\n",
       "      <td>90000.000000</td>\n",
       "      <td>90000.000000</td>\n",
       "    </tr>\n",
       "    <tr>\n",
       "      <th>mean</th>\n",
       "      <td>249.423944</td>\n",
       "      <td>250.236267</td>\n",
       "      <td>248.637289</td>\n",
       "      <td>249.736600</td>\n",
       "      <td>249.436178</td>\n",
       "      <td>249.656167</td>\n",
       "      <td>-0.011402</td>\n",
       "      <td>0.498548</td>\n",
       "      <td>0.499189</td>\n",
       "      <td>249.842033</td>\n",
       "      <td>...</td>\n",
       "      <td>7.475155</td>\n",
       "      <td>7.523962</td>\n",
       "      <td>7.508397</td>\n",
       "      <td>7.473322</td>\n",
       "      <td>7.490658</td>\n",
       "      <td>7.474578</td>\n",
       "      <td>7.509206</td>\n",
       "      <td>7.487159</td>\n",
       "      <td>7.513316</td>\n",
       "      <td>50.033981</td>\n",
       "    </tr>\n",
       "    <tr>\n",
       "      <th>std</th>\n",
       "      <td>144.336393</td>\n",
       "      <td>144.022200</td>\n",
       "      <td>144.107577</td>\n",
       "      <td>144.284945</td>\n",
       "      <td>143.941581</td>\n",
       "      <td>144.329168</td>\n",
       "      <td>7.038171</td>\n",
       "      <td>0.288682</td>\n",
       "      <td>0.500002</td>\n",
       "      <td>144.612718</td>\n",
       "      <td>...</td>\n",
       "      <td>4.330410</td>\n",
       "      <td>4.321537</td>\n",
       "      <td>4.331761</td>\n",
       "      <td>4.335692</td>\n",
       "      <td>4.332122</td>\n",
       "      <td>4.323035</td>\n",
       "      <td>4.326364</td>\n",
       "      <td>4.324876</td>\n",
       "      <td>4.333080</td>\n",
       "      <td>28.897243</td>\n",
       "    </tr>\n",
       "    <tr>\n",
       "      <th>min</th>\n",
       "      <td>0.000000</td>\n",
       "      <td>0.000000</td>\n",
       "      <td>0.000000</td>\n",
       "      <td>0.000000</td>\n",
       "      <td>0.000000</td>\n",
       "      <td>0.000000</td>\n",
       "      <td>-9.949874</td>\n",
       "      <td>0.000014</td>\n",
       "      <td>0.000000</td>\n",
       "      <td>0.000000</td>\n",
       "      <td>...</td>\n",
       "      <td>0.000019</td>\n",
       "      <td>0.000040</td>\n",
       "      <td>0.000154</td>\n",
       "      <td>0.000083</td>\n",
       "      <td>0.000367</td>\n",
       "      <td>0.000014</td>\n",
       "      <td>0.000160</td>\n",
       "      <td>0.000147</td>\n",
       "      <td>0.000125</td>\n",
       "      <td>0.002634</td>\n",
       "    </tr>\n",
       "    <tr>\n",
       "      <th>25%</th>\n",
       "      <td>125.000000</td>\n",
       "      <td>126.000000</td>\n",
       "      <td>124.000000</td>\n",
       "      <td>125.000000</td>\n",
       "      <td>125.000000</td>\n",
       "      <td>124.000000</td>\n",
       "      <td>-7.071068</td>\n",
       "      <td>0.248932</td>\n",
       "      <td>0.000000</td>\n",
       "      <td>124.000000</td>\n",
       "      <td>...</td>\n",
       "      <td>3.707544</td>\n",
       "      <td>3.797002</td>\n",
       "      <td>3.760627</td>\n",
       "      <td>3.715721</td>\n",
       "      <td>3.739358</td>\n",
       "      <td>3.715298</td>\n",
       "      <td>3.773381</td>\n",
       "      <td>3.743536</td>\n",
       "      <td>3.776322</td>\n",
       "      <td>25.091903</td>\n",
       "    </tr>\n",
       "    <tr>\n",
       "      <th>50%</th>\n",
       "      <td>250.000000</td>\n",
       "      <td>251.000000</td>\n",
       "      <td>248.000000</td>\n",
       "      <td>250.000000</td>\n",
       "      <td>250.000000</td>\n",
       "      <td>250.000000</td>\n",
       "      <td>0.000000</td>\n",
       "      <td>0.497136</td>\n",
       "      <td>0.000000</td>\n",
       "      <td>250.000000</td>\n",
       "      <td>...</td>\n",
       "      <td>7.474127</td>\n",
       "      <td>7.533987</td>\n",
       "      <td>7.505259</td>\n",
       "      <td>7.459774</td>\n",
       "      <td>7.494167</td>\n",
       "      <td>7.477270</td>\n",
       "      <td>7.512575</td>\n",
       "      <td>7.476564</td>\n",
       "      <td>7.506812</td>\n",
       "      <td>50.030705</td>\n",
       "    </tr>\n",
       "    <tr>\n",
       "      <th>75%</th>\n",
       "      <td>374.000000</td>\n",
       "      <td>375.000000</td>\n",
       "      <td>374.000000</td>\n",
       "      <td>375.000000</td>\n",
       "      <td>373.000000</td>\n",
       "      <td>374.000000</td>\n",
       "      <td>7.000000</td>\n",
       "      <td>0.747513</td>\n",
       "      <td>1.000000</td>\n",
       "      <td>376.000000</td>\n",
       "      <td>...</td>\n",
       "      <td>11.216585</td>\n",
       "      <td>11.276349</td>\n",
       "      <td>11.261971</td>\n",
       "      <td>11.215637</td>\n",
       "      <td>11.239232</td>\n",
       "      <td>11.210070</td>\n",
       "      <td>11.268156</td>\n",
       "      <td>11.234414</td>\n",
       "      <td>11.277835</td>\n",
       "      <td>75.059454</td>\n",
       "    </tr>\n",
       "    <tr>\n",
       "      <th>max</th>\n",
       "      <td>499.000000</td>\n",
       "      <td>499.000000</td>\n",
       "      <td>499.000000</td>\n",
       "      <td>499.000000</td>\n",
       "      <td>499.000000</td>\n",
       "      <td>499.000000</td>\n",
       "      <td>9.949874</td>\n",
       "      <td>0.999987</td>\n",
       "      <td>1.000000</td>\n",
       "      <td>499.000000</td>\n",
       "      <td>...</td>\n",
       "      <td>14.999900</td>\n",
       "      <td>14.999528</td>\n",
       "      <td>14.999733</td>\n",
       "      <td>14.999478</td>\n",
       "      <td>14.999869</td>\n",
       "      <td>14.999928</td>\n",
       "      <td>14.999948</td>\n",
       "      <td>14.999364</td>\n",
       "      <td>14.999775</td>\n",
       "      <td>99.999482</td>\n",
       "    </tr>\n",
       "  </tbody>\n",
       "</table>\n",
       "<p>8 rows × 54 columns</p>\n",
       "</div>"
      ],
      "text/plain": [
       "                  0             1             2             3             4  \\\n",
       "count  90000.000000  90000.000000  90000.000000  90000.000000  90000.000000   \n",
       "mean     249.423944    250.236267    248.637289    249.736600    249.436178   \n",
       "std      144.336393    144.022200    144.107577    144.284945    143.941581   \n",
       "min        0.000000      0.000000      0.000000      0.000000      0.000000   \n",
       "25%      125.000000    126.000000    124.000000    125.000000    125.000000   \n",
       "50%      250.000000    251.000000    248.000000    250.000000    250.000000   \n",
       "75%      374.000000    375.000000    374.000000    375.000000    373.000000   \n",
       "max      499.000000    499.000000    499.000000    499.000000    499.000000   \n",
       "\n",
       "                  5             6             7             8             9  \\\n",
       "count  90000.000000  90000.000000  90000.000000  90000.000000  90000.000000   \n",
       "mean     249.656167     -0.011402      0.498548      0.499189    249.842033   \n",
       "std      144.329168      7.038171      0.288682      0.500002    144.612718   \n",
       "min        0.000000     -9.949874      0.000014      0.000000      0.000000   \n",
       "25%      124.000000     -7.071068      0.248932      0.000000    124.000000   \n",
       "50%      250.000000      0.000000      0.497136      0.000000    250.000000   \n",
       "75%      374.000000      7.000000      0.747513      1.000000    376.000000   \n",
       "max      499.000000      9.949874      0.999987      1.000000    499.000000   \n",
       "\n",
       "       ...            44            45            46            47  \\\n",
       "count  ...  90000.000000  90000.000000  90000.000000  90000.000000   \n",
       "mean   ...      7.475155      7.523962      7.508397      7.473322   \n",
       "std    ...      4.330410      4.321537      4.331761      4.335692   \n",
       "min    ...      0.000019      0.000040      0.000154      0.000083   \n",
       "25%    ...      3.707544      3.797002      3.760627      3.715721   \n",
       "50%    ...      7.474127      7.533987      7.505259      7.459774   \n",
       "75%    ...     11.216585     11.276349     11.261971     11.215637   \n",
       "max    ...     14.999900     14.999528     14.999733     14.999478   \n",
       "\n",
       "                 48            49            50            51            52  \\\n",
       "count  90000.000000  90000.000000  90000.000000  90000.000000  90000.000000   \n",
       "mean       7.490658      7.474578      7.509206      7.487159      7.513316   \n",
       "std        4.332122      4.323035      4.326364      4.324876      4.333080   \n",
       "min        0.000367      0.000014      0.000160      0.000147      0.000125   \n",
       "25%        3.739358      3.715298      3.773381      3.743536      3.776322   \n",
       "50%        7.494167      7.477270      7.512575      7.476564      7.506812   \n",
       "75%       11.239232     11.210070     11.268156     11.234414     11.277835   \n",
       "max       14.999869     14.999928     14.999948     14.999364     14.999775   \n",
       "\n",
       "             target  \n",
       "count  90000.000000  \n",
       "mean      50.033981  \n",
       "std       28.897243  \n",
       "min        0.002634  \n",
       "25%       25.091903  \n",
       "50%       50.030705  \n",
       "75%       75.059454  \n",
       "max       99.999482  \n",
       "\n",
       "[8 rows x 54 columns]"
      ]
     },
     "execution_count": 42,
     "metadata": {},
     "output_type": "execute_result"
    }
   ],
   "source": [
    "df_data_train.describe()"
   ]
  },
  {
   "cell_type": "code",
   "execution_count": 43,
   "id": "ea948ab5",
   "metadata": {},
   "outputs": [
    {
     "data": {
      "text/plain": [
       "(90000, 54)"
      ]
     },
     "execution_count": 43,
     "metadata": {},
     "output_type": "execute_result"
    }
   ],
   "source": [
    "df_data_train.shape"
   ]
  },
  {
   "cell_type": "markdown",
   "id": "e2b9b2b7",
   "metadata": {},
   "source": [
    "splitting the dataframe into features and target columns"
   ]
  },
  {
   "cell_type": "code",
   "execution_count": 28,
   "id": "84b37f6e",
   "metadata": {},
   "outputs": [],
   "source": [
    "X = np.array(df_data_train.drop('target', axis=1))\n",
    "y = np.array(df_data_train['target'])"
   ]
  },
  {
   "cell_type": "code",
   "execution_count": 29,
   "id": "46289c97",
   "metadata": {},
   "outputs": [],
   "source": [
    "X_train, X_test, y_train, y_test = train_test_split(X, y, test_size=0.33, random_state=34)"
   ]
  },
  {
   "cell_type": "code",
   "execution_count": 30,
   "id": "bb6b7fa7",
   "metadata": {},
   "outputs": [],
   "source": [
    "model_rf = RandomForestRegressor(max_depth=20, n_estimators=20, n_jobs=1)"
   ]
  },
  {
   "cell_type": "code",
   "execution_count": 62,
   "id": "458ef28b",
   "metadata": {},
   "outputs": [
    {
     "data": {
      "text/html": [
       "<style>#sk-container-id-3 {color: black;background-color: white;}#sk-container-id-3 pre{padding: 0;}#sk-container-id-3 div.sk-toggleable {background-color: white;}#sk-container-id-3 label.sk-toggleable__label {cursor: pointer;display: block;width: 100%;margin-bottom: 0;padding: 0.3em;box-sizing: border-box;text-align: center;}#sk-container-id-3 label.sk-toggleable__label-arrow:before {content: \"▸\";float: left;margin-right: 0.25em;color: #696969;}#sk-container-id-3 label.sk-toggleable__label-arrow:hover:before {color: black;}#sk-container-id-3 div.sk-estimator:hover label.sk-toggleable__label-arrow:before {color: black;}#sk-container-id-3 div.sk-toggleable__content {max-height: 0;max-width: 0;overflow: hidden;text-align: left;background-color: #f0f8ff;}#sk-container-id-3 div.sk-toggleable__content pre {margin: 0.2em;color: black;border-radius: 0.25em;background-color: #f0f8ff;}#sk-container-id-3 input.sk-toggleable__control:checked~div.sk-toggleable__content {max-height: 200px;max-width: 100%;overflow: auto;}#sk-container-id-3 input.sk-toggleable__control:checked~label.sk-toggleable__label-arrow:before {content: \"▾\";}#sk-container-id-3 div.sk-estimator input.sk-toggleable__control:checked~label.sk-toggleable__label {background-color: #d4ebff;}#sk-container-id-3 div.sk-label input.sk-toggleable__control:checked~label.sk-toggleable__label {background-color: #d4ebff;}#sk-container-id-3 input.sk-hidden--visually {border: 0;clip: rect(1px 1px 1px 1px);clip: rect(1px, 1px, 1px, 1px);height: 1px;margin: -1px;overflow: hidden;padding: 0;position: absolute;width: 1px;}#sk-container-id-3 div.sk-estimator {font-family: monospace;background-color: #f0f8ff;border: 1px dotted black;border-radius: 0.25em;box-sizing: border-box;margin-bottom: 0.5em;}#sk-container-id-3 div.sk-estimator:hover {background-color: #d4ebff;}#sk-container-id-3 div.sk-parallel-item::after {content: \"\";width: 100%;border-bottom: 1px solid gray;flex-grow: 1;}#sk-container-id-3 div.sk-label:hover label.sk-toggleable__label {background-color: #d4ebff;}#sk-container-id-3 div.sk-serial::before {content: \"\";position: absolute;border-left: 1px solid gray;box-sizing: border-box;top: 0;bottom: 0;left: 50%;z-index: 0;}#sk-container-id-3 div.sk-serial {display: flex;flex-direction: column;align-items: center;background-color: white;padding-right: 0.2em;padding-left: 0.2em;position: relative;}#sk-container-id-3 div.sk-item {position: relative;z-index: 1;}#sk-container-id-3 div.sk-parallel {display: flex;align-items: stretch;justify-content: center;background-color: white;position: relative;}#sk-container-id-3 div.sk-item::before, #sk-container-id-3 div.sk-parallel-item::before {content: \"\";position: absolute;border-left: 1px solid gray;box-sizing: border-box;top: 0;bottom: 0;left: 50%;z-index: -1;}#sk-container-id-3 div.sk-parallel-item {display: flex;flex-direction: column;z-index: 1;position: relative;background-color: white;}#sk-container-id-3 div.sk-parallel-item:first-child::after {align-self: flex-end;width: 50%;}#sk-container-id-3 div.sk-parallel-item:last-child::after {align-self: flex-start;width: 50%;}#sk-container-id-3 div.sk-parallel-item:only-child::after {width: 0;}#sk-container-id-3 div.sk-dashed-wrapped {border: 1px dashed gray;margin: 0 0.4em 0.5em 0.4em;box-sizing: border-box;padding-bottom: 0.4em;background-color: white;}#sk-container-id-3 div.sk-label label {font-family: monospace;font-weight: bold;display: inline-block;line-height: 1.2em;}#sk-container-id-3 div.sk-label-container {text-align: center;}#sk-container-id-3 div.sk-container {/* jupyter's `normalize.less` sets `[hidden] { display: none; }` but bootstrap.min.css set `[hidden] { display: none !important; }` so we also need the `!important` here to be able to override the default hidden behavior on the sphinx rendered scikit-learn.org. See: https://github.com/scikit-learn/scikit-learn/issues/21755 */display: inline-block !important;position: relative;}#sk-container-id-3 div.sk-text-repr-fallback {display: none;}</style><div id=\"sk-container-id-3\" class=\"sk-top-container\"><div class=\"sk-text-repr-fallback\"><pre>RandomForestRegressor(max_depth=20, n_estimators=20, n_jobs=1)</pre><b>In a Jupyter environment, please rerun this cell to show the HTML representation or trust the notebook. <br />On GitHub, the HTML representation is unable to render, please try loading this page with nbviewer.org.</b></div><div class=\"sk-container\" hidden><div class=\"sk-item\"><div class=\"sk-estimator sk-toggleable\"><input class=\"sk-toggleable__control sk-hidden--visually\" id=\"sk-estimator-id-3\" type=\"checkbox\" checked><label for=\"sk-estimator-id-3\" class=\"sk-toggleable__label sk-toggleable__label-arrow\">RandomForestRegressor</label><div class=\"sk-toggleable__content\"><pre>RandomForestRegressor(max_depth=20, n_estimators=20, n_jobs=1)</pre></div></div></div></div></div>"
      ],
      "text/plain": [
       "RandomForestRegressor(max_depth=20, n_estimators=20, n_jobs=1)"
      ]
     },
     "execution_count": 62,
     "metadata": {},
     "output_type": "execute_result"
    }
   ],
   "source": [
    "model_rf.fit(X_train, y_train)"
   ]
  },
  {
   "cell_type": "code",
   "execution_count": 63,
   "id": "bf626dec",
   "metadata": {},
   "outputs": [],
   "source": [
    "y_pred = model_rf.predict(X_test)"
   ]
  },
  {
   "cell_type": "markdown",
   "id": "b5159d5f",
   "metadata": {},
   "source": [
    "calculating perfomance using RMSE"
   ]
  },
  {
   "cell_type": "code",
   "execution_count": 64,
   "id": "7e7f8f5b",
   "metadata": {},
   "outputs": [
    {
     "data": {
      "text/plain": [
       "0.005518186763052648"
      ]
     },
     "execution_count": 64,
     "metadata": {},
     "output_type": "execute_result"
    }
   ],
   "source": [
    "rmse = np.sqrt(mean_squared_error(y_test, y_pred))\n",
    "rmse"
   ]
  },
  {
   "cell_type": "code",
   "execution_count": 67,
   "id": "50d856c5",
   "metadata": {},
   "outputs": [],
   "source": [
    "y_pred_result = model_rf.predict(df_data_test.values)"
   ]
  },
  {
   "cell_type": "code",
   "execution_count": 68,
   "id": "ae4900ca",
   "metadata": {},
   "outputs": [
    {
     "data": {
      "text/plain": [
       "array([11.21481218, 79.70486952,  7.49898091, ..., 22.83197097,\n",
       "       16.50146371, 91.98158735])"
      ]
     },
     "execution_count": 68,
     "metadata": {},
     "output_type": "execute_result"
    }
   ],
   "source": [
    "y_pred_result"
   ]
  },
  {
   "cell_type": "markdown",
   "id": "dca77255",
   "metadata": {},
   "source": [
    "saving results to the predictions.csv file"
   ]
  },
  {
   "cell_type": "code",
   "execution_count": 70,
   "id": "5871046b",
   "metadata": {},
   "outputs": [],
   "source": [
    "y_pred_result = pd.DataFrame(y_pred_result).to_csv('predictions.csv', index=None)"
   ]
  }
 ],
 "metadata": {
  "kernelspec": {
   "display_name": "Python 3 (ipykernel)",
   "language": "python",
   "name": "python3"
  },
  "language_info": {
   "codemirror_mode": {
    "name": "ipython",
    "version": 3
   },
   "file_extension": ".py",
   "mimetype": "text/x-python",
   "name": "python",
   "nbconvert_exporter": "python",
   "pygments_lexer": "ipython3",
   "version": "3.11.2"
  }
 },
 "nbformat": 4,
 "nbformat_minor": 5
}
